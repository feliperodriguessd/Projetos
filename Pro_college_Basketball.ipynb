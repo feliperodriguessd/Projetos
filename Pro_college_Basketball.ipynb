{
 "cells": [
  {
   "cell_type": "code",
   "execution_count": null,
   "metadata": {},
   "outputs": [],
   "source": [
    "import pandas as pd\n",
    "import matplotlib.pyplot as plt \n",
    "import seaborn as sns"
   ]
  },
  {
   "cell_type": "markdown",
   "metadata": {},
   "source": [
    "Import and clean Football Data"
   ]
  },
  {
   "cell_type": "code",
   "execution_count": null,
   "metadata": {},
   "outputs": [],
   "source": [
    "nba_df = pd.read_csv('https://raw.githubusercontent.com/feliperodriguessd/Projetos/main/nba_game_scores_1g.csv')\n",
    "display(nfl_df)"
   ]
  },
  {
   "cell_type": "code",
   "execution_count": null,
   "metadata": {},
   "outputs": [],
   "source": [
    "ncaa_b_df = pd.read_csv('https://raw.githubusercontent.com/feliperodriguessd/Projetos/main/ncaab_game_scores_1g.csv')\n",
    "display(ncaa_df)"
   ]
  },
  {
   "cell_type": "markdown",
   "metadata": {},
   "source": [
    "Checking unique values on year of each dataset"
   ]
  },
  {
   "cell_type": "code",
   "execution_count": null,
   "metadata": {},
   "outputs": [],
   "source": [
    "print(nba_df_df['season'].unique())\n",
    "print(ncaa_b_df['season'].unique())"
   ]
  },
  {
   "cell_type": "code",
   "execution_count": null,
   "metadata": {},
   "outputs": [],
   "source": [
    "common_years = pd.Series(nfl_df['season'].unique())[pd.Series(nfl_df['season'].unique()).isin(pd.Series(ncaa_df['season'].unique()))]\n"
   ]
  },
  {
   "cell_type": "markdown",
   "metadata": {},
   "source": [
    "To compare just 2015 ill delete 2014 from the NFL dataset"
   ]
  },
  {
   "cell_type": "code",
   "execution_count": null,
   "metadata": {},
   "outputs": [],
   "source": [
    "nfl_df_data_common = nfl_df[nfl_df['season'].isin(common_years)]\n",
    "ncaa_df_data_common = ncaa_df[ncaa_df['season'].isin(common_years)]"
   ]
  },
  {
   "cell_type": "code",
   "execution_count": null,
   "metadata": {},
   "outputs": [],
   "source": [
    "print(nfl_df_data_common.describe())\n",
    "print(ncaa_df_data_common.describe())"
   ]
  },
  {
   "cell_type": "markdown",
   "metadata": {},
   "source": [
    "Analyse the relations and compare NFL vs NCAA"
   ]
  },
  {
   "cell_type": "code",
   "execution_count": null,
   "metadata": {},
   "outputs": [],
   "source": [
    "sns.histplot(nfl_df_data_common['home.score'], bins=20, kde=True, color='blue', label='NFL')\n",
    "sns.histplot(ncaa_df_data_common['home.score'], bins=20, kde=True, color='Red', label='NCAA')\n",
    "plt.legend()\n",
    "plt.xlabel('Home Team Score')\n",
    "plt.ylabel('Frequency')\n",
    "plt.title('Distribution of Home Team Score')\n",
    "plt.show()"
   ]
  },
  {
   "cell_type": "code",
   "execution_count": null,
   "metadata": {},
   "outputs": [],
   "source": [
    "sns.histplot(nfl_df_data_common['away.score'], bins=20, kde=True, color='blue', label='NFL')\n",
    "sns.histplot(ncaa_df_data_common['away.score'], bins=20, kde=True, color='Red', label='NCAA')\n",
    "plt.legend()\n",
    "plt.xlabel('Away Team Score')\n",
    "plt.ylabel('Frequency')\n",
    "plt.title('Distribution of Home Team Score')\n",
    "plt.show()"
   ]
  },
  {
   "cell_type": "code",
   "execution_count": null,
   "metadata": {},
   "outputs": [],
   "source": [
    "sns.lineplot(x='line', y='home.score', data=nfl_df_data_common, color='blue', label='NFL')\n",
    "sns.lineplot(x='line', y='home.score', data=ncaa_df_data_common, color='red', label='NCAA')\n",
    "\n",
    "plt.legend()\n",
    "plt.title('Home Scores by line')\n",
    "plt.xlabel('Line')\n",
    "plt.ylabel('Home Score')\n",
    "plt.show()"
   ]
  },
  {
   "cell_type": "markdown",
   "metadata": {},
   "source": [
    "Bivariate Analysis"
   ]
  },
  {
   "cell_type": "code",
   "execution_count": null,
   "metadata": {},
   "outputs": [],
   "source": [
    "correlation_matrix_nfl = nfl_df_data_common.corr()\n",
    "correlation_matrix_ncaa = ncaa_df_data_common.corr()"
   ]
  },
  {
   "cell_type": "code",
   "execution_count": null,
   "metadata": {},
   "outputs": [],
   "source": [
    "sns.heatmap(correlation_matrix_nfl, annot=True, cmap='coolwarm', fmt='.2f')\n",
    "plt.title('Correlation Matrix NFL')\n",
    "plt.show()"
   ]
  },
  {
   "cell_type": "code",
   "execution_count": null,
   "metadata": {},
   "outputs": [],
   "source": [
    "sns.heatmap(correlation_matrix_ncaa, annot=True, cmap='coolwarm', fmt='.2f')\n",
    "plt.title('Correlation Matrix NCAA')\n",
    "plt.show()"
   ]
  },
  {
   "cell_type": "markdown",
   "metadata": {},
   "source": [
    "Analysing Team Performance\n",
    "    NCAA teams were selected the top 32 to be a metter comparision to the NFL teams\n",
    "        Home score\n",
    "        away score"
   ]
  },
  {
   "cell_type": "code",
   "execution_count": null,
   "metadata": {},
   "outputs": [],
   "source": [
    "plt.figure(figsize=(12, 6))\n",
    "sns.boxplot(x='home.team', y='home.score', data=nfl_df_data_common)\n",
    "plt.title('NFL Team Performance')\n",
    "plt.xticks(rotation=90)\n",
    "plt.show()"
   ]
  },
  {
   "cell_type": "code",
   "execution_count": null,
   "metadata": {},
   "outputs": [],
   "source": [
    "plt.figure(figsize=(12, 6))\n",
    "sns.boxplot(x='home.team', y='home.score', data=ncaa_df_data_common)\n",
    "plt.title('NCAA Team Performance')\n",
    "plt.xticks(rotation=90)\n",
    "plt.show()"
   ]
  },
  {
   "cell_type": "code",
   "execution_count": null,
   "metadata": {},
   "outputs": [],
   "source": [
    "top_teams = ncaa_df_data_common.groupby('home.team')['home.score'].mean().sort_values(ascending=False).head(32).index\n",
    "\n",
    "top_teams_data = ncaa_df_data_common[ncaa_df_data_common['home.team'].isin(top_teams)]\n",
    "\n",
    "plt.figure(figsize=(12, 6))\n",
    "sns.boxplot(x='home.team', y='home.score', data=top_teams_data)\n",
    "plt.title('Top 32 NCAA Team Performance')\n",
    "plt.xticks(rotation=90)\n",
    "plt.show()\n",
    "\n",
    "top_teams = ncaa_df_data_common.groupby('away.team')['away.score'].mean().sort_values(ascending=False).head(32).index\n",
    "\n",
    "top_teams_data = ncaa_df_data_common[ncaa_df_data_common['away.team'].isin(top_teams)]\n",
    "\n",
    "plt.figure(figsize=(12, 6))\n",
    "sns.boxplot(x='away.team', y='away.score', data=top_teams_data)\n",
    "plt.title('Top 32 NCAA Team Performance')\n",
    "plt.xticks(rotation=90)\n",
    "plt.show()"
   ]
  },
  {
   "cell_type": "markdown",
   "metadata": {},
   "source": [
    "Date Analysis"
   ]
  },
  {
   "cell_type": "code",
   "execution_count": null,
   "metadata": {},
   "outputs": [],
   "source": [
    "# Convert the 'date' column to datetime format\n",
    "nfl_df_data_common['date'] = pd.to_datetime(nfl_df_data_common['date'])\n",
    "ncaa_df_data_common['date'] = pd.to_datetime(ncaa_df_data_common['date'])\n",
    "\n",
    "# Extract and analyze trends in dates (monthly, yearly, etc.)\n",
    "print(\"NFL Date Analysis:\")\n",
    "print(nfl_df_data_common['date'].dt.month.value_counts())  # Example: Monthly analysis\n",
    "\n",
    "print(\"\\nNCAA Date Analysis:\")\n",
    "print(ncaa_df_data_common['date'].dt.month.value_counts())  # Example: Monthly analysis\n"
   ]
  },
  {
   "cell_type": "code",
   "execution_count": null,
   "metadata": {},
   "outputs": [],
   "source": [
    "plt.figure(figsize=(12, 6))\n",
    "sns.boxplot(x='home.team', y='home.score', data=nfl_df_data_common)\n",
    "plt.title('NFL Team Performance with Outliers')\n",
    "plt.xticks(rotation=90)\n",
    "plt.show()\n",
    "\n",
    "plt.figure(figsize=(12, 6))\n",
    "sns.boxplot(x='home.team', y='home.score', data=ncaa_df_data_common)\n",
    "plt.title('NCAA Team Performance with Outliers')\n",
    "plt.xticks(rotation=90)\n",
    "plt.show()"
   ]
  }
 ],
 "metadata": {
  "kernelspec": {
   "display_name": "Python 3",
   "language": "python",
   "name": "python3"
  },
  "language_info": {
   "codemirror_mode": {
    "name": "ipython",
    "version": 3
   },
   "file_extension": ".py",
   "mimetype": "text/x-python",
   "name": "python",
   "nbconvert_exporter": "python",
   "pygments_lexer": "ipython3",
   "version": "3.12.2"
  }
 },
 "nbformat": 4,
 "nbformat_minor": 2
}
